{
 "cells": [
  {
   "cell_type": "code",
   "execution_count": 73,
   "metadata": {},
   "outputs": [],
   "source": [
    "import tensorflow as tf\n",
    "import tensorflow_addons as tfa\n",
    "from svhn_dataset import SVHN\n",
    "import matplotlib.pyplot as plt\n",
    "import matplotlib.patches as patches\n",
    "import numpy as np"
   ]
  },
  {
   "cell_type": "code",
   "execution_count": 83,
   "metadata": {},
   "outputs": [
    {
     "name": "stdout",
     "output_type": "stream",
     "text": [
      "(40, 40, 3)\n",
      "dict_keys(['bboxes', 'classes', 'image'])\n",
      "training samples: 10000\n",
      "max size: 293\n",
      "min size: 18\n",
      "mean size: 76.3944\n",
      "number of samples bigger then 128: 1011\n",
      "number of samples bigger then 256: 15\n"
     ]
    }
   ],
   "source": [
    "dataset = SVHN().train.map(SVHN.parse)\n",
    "for sample in dataset.take(10):\n",
    "    pass\n",
    "print(sample['image'].shape)\n",
    "print(sample.keys())\n",
    "sizes = np.array([x['image'].shape[0] for x in dataset.as_numpy_iterator()])\n",
    "print(f'training samples: {len(sizes)}')\n",
    "print(f'max size: {np.max(sizes)}')\n",
    "print(f'min size: {np.min(sizes)}')\n",
    "print(f'mean size: {np.mean(sizes)}')\n",
    "print(f'number of samples bigger then 128: {np.sum(sizes > 128)}')\n",
    "print(f'number of samples bigger then 256: {np.sum(sizes > 256)}')"
   ]
  },
  {
   "cell_type": "code",
   "execution_count": 91,
   "metadata": {},
   "outputs": [
    {
     "name": "stdout",
     "output_type": "stream",
     "text": [
      "max size: 293\n",
      "size: (18, 18, 3)\n"
     ]
    },
    {
     "data": {
      "image/png": "[encoded data removed]",
      "text/plain": [
       "<Figure size 432x288 with 1 Axes>"
      ]
     },
     "metadata": {
      "needs_background": "light"
     },
     "output_type": "display_data"
    }
   ],
   "source": [
    "input_size = 128\n",
    "\n",
    "\n",
    "for sample in dataset.take(6406):\n",
    "    pass\n",
    "\n",
    "@tf.function\n",
    "def scale(x):\n",
    "    return dict(image = x['image'],\n",
    "                classes = x['classes'],\n",
    "                bboxes = x['bboxes'])\n",
    "\n",
    "\n",
    "\n",
    "def draw_image_and_bb(image, bbs):\n",
    "    print(f'size: {image.shape}')\n",
    "    plt.imshow(image)\n",
    "    ax = plt.gca()\n",
    "    for bb in bbs:\n",
    "        ymin, xmin, ymax, xmax = bb.numpy()\n",
    "        y, x = (ymin + ymax) / 2, (xmin + xmax) / 2\n",
    "        h, w = (ymax - ymin), (xmax - xmin)\n",
    "        rect = patches.Rectangle((xmin, ymin),w,h,linewidth=2,edgecolor='r',facecolor='none')\n",
    "        ax.add_patch(rect)\n",
    "    plt.show()\n",
    "    \n",
    "\n",
    "print(f'max size: {max_size}')\n",
    "draw_image_and_bb(sample['image'].numpy(), sample['bboxes'])"
   ]
  },
  {
   "cell_type": "markdown",
   "metadata": {},
   "source": [
    "# Dataset properties\n",
    "max size: 293\n",
    "mean size: 76.4\n",
    "number of images bigger than 128: 1011\n",
    "train size: 10000"
   ]
  },
  {
   "cell_type": "code",
   "execution_count": 182,
   "metadata": {},
   "outputs": [],
   "source": [
    "def generate_anchors(pyramid_levels, image_size, first_feature_scale=4, anchor_scale=4.0, aspect_ratios = [(1.0, 1.0), (1.4, 0.7), (0.7, 1.4)], num_scales=3): \n",
    "    boxes_all = []\n",
    "    for s in range(pyramid_levels):\n",
    "        boxes_level = []\n",
    "        for octave in range(num_scales):\n",
    "            for aspect_h, aspect_w in aspect_ratios:\n",
    "                scale = 2 ** (octave / num_scales)\n",
    "                stride = first_feature_scale * 2 ** s\n",
    "                base_anchor_size = anchor_scale * stride * scale\n",
    "                anchor_size_x = base_anchor_size * aspect_w / 2.0\n",
    "                anchor_size_y = base_anchor_size * aspect_h / 2.0\n",
    "\n",
    "                x = np.arange(stride / 2, image_size, stride)\n",
    "                y = np.arange(stride / 2, image_size, stride)\n",
    "                xv, yv = np.meshgrid(x, y)\n",
    "                xv = xv.reshape(-1)\n",
    "                yv = yv.reshape(-1)\n",
    "\n",
    "                boxes = np.vstack((yv - anchor_size_y, xv - anchor_size_x,\n",
    "                    yv + anchor_size_y, xv + anchor_size_x))\n",
    "                boxes = np.swapaxes(boxes, 0, 1)\n",
    "                boxes_level.append(np.expand_dims(boxes, axis=1))\n",
    "        boxes_level = np.concatenate(boxes_level, axis=1)\n",
    "        boxes_all.append(boxes_level.reshape(-1, 4))\n",
    "    return np.vstack(boxes_all) \n",
    "\n",
    "anchors = generate_anchors(4, 128, anchor_scale=3.0, first_feature_scale =4)"
   ]
  },
  {
   "cell_type": "code",
   "execution_count": 178,
   "metadata": {},
   "outputs": [
    {
     "name": "stdout",
     "output_type": "stream",
     "text": [
      "(None, 4, 4, 1280),(None, 8, 8, 112),(None, 16, 16, 40),(None, 32, 32, 24)\n",
      "(None, 32, 32, 24)\n"
     ]
    }
   ],
   "source": [
    "from importlib import reload\n",
    "import efficientdet\n",
    "reload(efficientdet)\n",
    "net = efficientdet.EfficientDet(5, 9, input_size= 128)"
   ]
  },
  {
   "cell_type": "code",
   "execution_count": 179,
   "metadata": {},
   "outputs": [
    {
     "name": "stdout",
     "output_type": "stream",
     "text": [
      "(2, 12240, 5)\n",
      "(2, 12240, 4)\n"
     ]
    }
   ],
   "source": [
    "input_tensor = tf.random.uniform((2, 128, 128, 3), dtype=tf.float32)\n",
    "output = net(input_tensor)\n",
    "print(output[0].shape)\n",
    "print(output[1].shape)"
   ]
  }
 ],
 "metadata": {
  "kernelspec": {
   "display_name": "Python 3",
   "language": "python",
   "name": "python3"
  },
  "language_info": {
   "codemirror_mode": {
    "name": "ipython",
    "version": 3
   },
   "file_extension": ".py",
   "mimetype": "text/x-python",
   "name": "python",
   "nbconvert_exporter": "python",
   "pygments_lexer": "ipython3",
   "version": "3.7.7"
  }
 },
 "nbformat": 4,
 "nbformat_minor": 4
}
